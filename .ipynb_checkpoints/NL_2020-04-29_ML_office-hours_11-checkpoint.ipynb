{
 "cells": [
  {
   "cell_type": "markdown",
   "metadata": {},
   "source": [
    "# Let's Build a Model!"
   ]
  },
  {
   "cell_type": "markdown",
   "metadata": {},
   "source": [
    "# Custom Transformer\n",
    "\n",
    "We want to create two new features for our data set: \n",
    "\n",
    "- Within 10 miles of Los Angeles (`1=yes`, `0=no`)\n",
    "- Within 10 miles of San Francisco (`1=yes`, `0=no`)"
   ]
  },
  {
   "cell_type": "code",
   "execution_count": 7,
   "metadata": {
    "collapsed": true
   },
   "outputs": [],
   "source": [
    "from math import radians\n",
    "from sklearn.base import BaseEstimator, TransformerMixin\n",
    "from sklearn.compose import ColumnTransformer\n",
    "from sklearn.metrics.pairwise import haversine_distances\n",
    "from sklearn.datasets import fetch_california_housing\n",
    "from sklearn.preprocessing import StandardScaler\n",
    "import numpy as np\n",
    "import pandas as pd\n",
    "\n",
    "# Import data into DataFrame\n",
    "data = fetch_california_housing()\n",
    "X = pd.DataFrame(data['data'], columns=data['feature_names'])\n",
    "y = data['target']\n",
    "\n",
    "# Custom transformer for 'Latitude' and 'Longitude' cols\n",
    "class NearCity(BaseEstimator, TransformerMixin):\n",
    "    def __init__(self, distance=10):\n",
    "        self.la = (34.05, -118.24)\n",
    "        self.sf = (37.77, -122.41)\n",
    "        self.distance = distance #See http://tinyurl.com/y8m263h3\n",
    "        \n",
    "    def calc_dist(self, coords_1, coords_2):\n",
    "        coords_1 = [radians(c) for c in coords_1]\n",
    "        coords_2 = [radians(c) for c in coords_2]\n",
    "        result = haversine_distances([coords_1, coords_2])[0,-1]\n",
    "        return result * 6_371\n",
    "    \n",
    "    def fit(self, X, y=None):\n",
    "        return self\n",
    "    \n",
    "    def transform(self, X):\n",
    "        dist_to_sf = np.apply_along_axis(self.calc_dist, 1, X, coords_2=self.sf)\n",
    "        dist_to_sf = (dist_to_sf < self.distance).astype(int)\n",
    "        \n",
    "        dist_to_la = np.apply_along_axis(self.calc_dist, 1, X, coords_2=self.la)\n",
    "        dist_to_la = (dist_to_la < self.distance).astype(int)\n",
    "        \n",
    "        X_trans = np.column_stack((X, dist_to_sf, dist_to_la))\n",
    "        return X_trans"
   ]
  },
  {
   "cell_type": "code",
   "execution_count": 15,
   "metadata": {
    "collapsed": true
   },
   "outputs": [],
   "source": [
    "other_cols = X.columns[:-2].tolist()"
   ]
  },
  {
   "cell_type": "code",
   "execution_count": 20,
   "metadata": {
    "collapsed": true
   },
   "outputs": [],
   "source": [
    "ct = ColumnTransformer(remainder='drop',\n",
    "                       transformers = [\n",
    "                        ('near_city', NearCity(), ['Latitude', 'Longitude'])#,\n",
    "                        ('scaler', StandardScaler(), other_cols)]\n",
    "                       )"
   ]
  },
  {
   "cell_type": "code",
   "execution_count": 21,
   "metadata": {
    "collapsed": true
   },
   "outputs": [],
   "source": [
    "X_trans = ct.fit_transform(X)"
   ]
  },
  {
   "cell_type": "code",
   "execution_count": 22,
   "metadata": {
    "collapsed": false
   },
   "outputs": [
    {
     "name": "stdout",
     "output_type": "stream",
     "text": [
      "(20640, 8)\n",
      "(20640, 10)\n"
     ]
    }
   ],
   "source": [
    "print(X.shape)\n",
    "print(X_trans.shape)"
   ]
  },
  {
   "cell_type": "code",
   "execution_count": 27,
   "metadata": {
    "collapsed": false
   },
   "outputs": [
    {
     "data": {
      "text/html": [
       "<div>\n",
       "<style scoped>\n",
       "    .dataframe tbody tr th:only-of-type {\n",
       "        vertical-align: middle;\n",
       "    }\n",
       "\n",
       "    .dataframe tbody tr th {\n",
       "        vertical-align: top;\n",
       "    }\n",
       "\n",
       "    .dataframe thead th {\n",
       "        text-align: right;\n",
       "    }\n",
       "</style>\n",
       "<table border=\"1\" class=\"dataframe\">\n",
       "  <thead>\n",
       "    <tr style=\"text-align: right;\">\n",
       "      <th></th>\n",
       "      <th>0</th>\n",
       "      <th>1</th>\n",
       "      <th>2</th>\n",
       "      <th>3</th>\n",
       "      <th>4</th>\n",
       "      <th>5</th>\n",
       "      <th>6</th>\n",
       "      <th>7</th>\n",
       "      <th>8</th>\n",
       "      <th>9</th>\n",
       "    </tr>\n",
       "  </thead>\n",
       "  <tbody>\n",
       "    <tr>\n",
       "      <th>mean</th>\n",
       "      <td>35.631861</td>\n",
       "      <td>-119.569704</td>\n",
       "      <td>0.028488</td>\n",
       "      <td>0.049661</td>\n",
       "      <td>6.609700e-17</td>\n",
       "      <td>5.508083e-18</td>\n",
       "      <td>6.609700e-17</td>\n",
       "      <td>-1.060306e-16</td>\n",
       "      <td>-1.101617e-17</td>\n",
       "      <td>3.442552e-18</td>\n",
       "    </tr>\n",
       "    <tr>\n",
       "      <th>std</th>\n",
       "      <td>2.135952</td>\n",
       "      <td>2.003532</td>\n",
       "      <td>0.166367</td>\n",
       "      <td>0.217249</td>\n",
       "      <td>1.000024e+00</td>\n",
       "      <td>1.000024e+00</td>\n",
       "      <td>1.000024e+00</td>\n",
       "      <td>1.000024e+00</td>\n",
       "      <td>1.000024e+00</td>\n",
       "      <td>1.000024e+00</td>\n",
       "    </tr>\n",
       "  </tbody>\n",
       "</table>\n",
       "</div>"
      ],
      "text/plain": [
       "              0           1         2         3             4             5  \\\n",
       "mean  35.631861 -119.569704  0.028488  0.049661  6.609700e-17  5.508083e-18   \n",
       "std    2.135952    2.003532  0.166367  0.217249  1.000024e+00  1.000024e+00   \n",
       "\n",
       "                 6             7             8             9  \n",
       "mean  6.609700e-17 -1.060306e-16 -1.101617e-17  3.442552e-18  \n",
       "std   1.000024e+00  1.000024e+00  1.000024e+00  1.000024e+00  "
      ]
     },
     "execution_count": 27,
     "metadata": {},
     "output_type": "execute_result"
    }
   ],
   "source": [
    "pd.DataFrame(X_trans).describe().loc[['mean', 'std']]"
   ]
  },
  {
   "cell_type": "code",
   "execution_count": null,
   "metadata": {
    "collapsed": true
   },
   "outputs": [],
   "source": []
  }
 ],
 "metadata": {
  "anaconda-cloud": {},
  "kernelspec": {
   "display_name": "Python [Root]",
   "language": "python",
   "name": "Python [Root]"
  },
  "language_info": {
   "codemirror_mode": {
    "name": "ipython",
    "version": 3
   },
   "file_extension": ".py",
   "mimetype": "text/x-python",
   "name": "python",
   "nbconvert_exporter": "python",
   "pygments_lexer": "ipython3",
   "version": "3.5.2"
  },
  "toc": {
   "nav_menu": {},
   "number_sections": true,
   "sideBar": true,
   "skip_h1_title": false,
   "title_cell": "Table of Contents",
   "title_sidebar": "Contents",
   "toc_cell": false,
   "toc_position": {},
   "toc_section_display": true,
   "toc_window_display": false
  }
 },
 "nbformat": 4,
 "nbformat_minor": 2
}
