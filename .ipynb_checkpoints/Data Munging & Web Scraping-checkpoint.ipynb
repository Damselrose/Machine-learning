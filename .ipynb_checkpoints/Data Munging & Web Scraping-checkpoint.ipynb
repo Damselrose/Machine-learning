{
 "cells": [
  {
   "cell_type": "markdown",
   "metadata": {},
   "source": [
    "# Data Munging"
   ]
  },
  {
   "cell_type": "code",
   "execution_count": 2,
   "metadata": {},
   "outputs": [],
   "source": [
    "import pandas as pd\n",
    "import numpy as np\n",
    "import json\n"
   ]
  },
  {
   "cell_type": "code",
   "execution_count": 9,
   "metadata": {},
   "outputs": [
    {
     "data": {
      "text/html": [
       "<div>\n",
       "<style scoped>\n",
       "    .dataframe tbody tr th:only-of-type {\n",
       "        vertical-align: middle;\n",
       "    }\n",
       "\n",
       "    .dataframe tbody tr th {\n",
       "        vertical-align: top;\n",
       "    }\n",
       "\n",
       "    .dataframe thead th {\n",
       "        text-align: right;\n",
       "    }\n",
       "</style>\n",
       "<table border=\"1\" class=\"dataframe\">\n",
       "  <thead>\n",
       "    <tr style=\"text-align: right;\">\n",
       "      <th></th>\n",
       "      <th>Rank</th>\n",
       "      <th>Company</th>\n",
       "      <th>Country</th>\n",
       "      <th>Industry</th>\n",
       "      <th>Revenue in USD</th>\n",
       "    </tr>\n",
       "  </thead>\n",
       "  <tbody>\n",
       "    <tr>\n",
       "      <th>0</th>\n",
       "      <td>1</td>\n",
       "      <td>Walmart</td>\n",
       "      <td>United States</td>\n",
       "      <td>Retail</td>\n",
       "      <td>$514 billion</td>\n",
       "    </tr>\n",
       "    <tr>\n",
       "      <th>1</th>\n",
       "      <td>2</td>\n",
       "      <td>Sinopec Group</td>\n",
       "      <td>China</td>\n",
       "      <td>Petroleum</td>\n",
       "      <td>$415 billion</td>\n",
       "    </tr>\n",
       "  </tbody>\n",
       "</table>\n",
       "</div>"
      ],
      "text/plain": [
       "   Rank        Company        Country   Industry Revenue in USD\n",
       "0     1        Walmart  United States     Retail   $514 billion\n",
       "1     2  Sinopec Group          China  Petroleum   $415 billion"
      ]
     },
     "execution_count": 9,
     "metadata": {},
     "output_type": "execute_result"
    }
   ],
   "source": [
    "df_html = pd.read_html('https://en.wikipedia.org/wiki/Fortune_Global_500', header = 0)[0]\n",
    "fortune_500 = json.loads(df_html.to_json(orient = 'records'))\n",
    "df_html[:2]\n"
   ]
  },
  {
   "cell_type": "code",
   "execution_count": 6,
   "metadata": {},
   "outputs": [
    {
     "data": {
      "text/plain": [
       "{'0': {'Rank': 1,\n",
       "  'Company': 'Walmart',\n",
       "  'Country': 'United States',\n",
       "  'Industry': 'Retail',\n",
       "  'Revenue in USD': '$514 billion'},\n",
       " '1': {'Rank': 2,\n",
       "  'Company': 'Sinopec Group',\n",
       "  'Country': 'China',\n",
       "  'Industry': 'Petroleum',\n",
       "  'Revenue in USD': '$415 billion'},\n",
       " '2': {'Rank': 3,\n",
       "  'Company': 'Royal Dutch Shell',\n",
       "  'Country': 'Netherlands United Kingdom',\n",
       "  'Industry': 'Petroleum',\n",
       "  'Revenue in USD': '$397 billion'},\n",
       " '3': {'Rank': 4,\n",
       "  'Company': 'China National Petroleum',\n",
       "  'Country': 'China',\n",
       "  'Industry': 'Petroleum',\n",
       "  'Revenue in USD': '$393 billion'},\n",
       " '4': {'Rank': 5,\n",
       "  'Company': 'State Grid',\n",
       "  'Country': 'China',\n",
       "  'Industry': 'Energy',\n",
       "  'Revenue in USD': '$387 billion'},\n",
       " '5': {'Rank': 6,\n",
       "  'Company': 'Saudi Aramco',\n",
       "  'Country': 'Saudi Arabia',\n",
       "  'Industry': 'Energy',\n",
       "  'Revenue in USD': '$356 billion'},\n",
       " '6': {'Rank': 7,\n",
       "  'Company': 'BP',\n",
       "  'Country': 'United Kingdom',\n",
       "  'Industry': 'Petroleum',\n",
       "  'Revenue in USD': '$304 billion'},\n",
       " '7': {'Rank': 8,\n",
       "  'Company': 'Exxon Mobil',\n",
       "  'Country': 'United States',\n",
       "  'Industry': 'Petroleum',\n",
       "  'Revenue in USD': '$290 billion'},\n",
       " '8': {'Rank': 9,\n",
       "  'Company': 'Volkswagen',\n",
       "  'Country': 'Germany',\n",
       "  'Industry': 'Automobiles',\n",
       "  'Revenue in USD': '$278 billion'},\n",
       " '9': {'Rank': 10,\n",
       "  'Company': 'Toyota Motor',\n",
       "  'Country': 'Japan',\n",
       "  'Industry': 'Automobiles',\n",
       "  'Revenue in USD': '$273 billion'}}"
      ]
     },
     "execution_count": 6,
     "metadata": {},
     "output_type": "execute_result"
    }
   ],
   "source": [
    "record = json.loads(df_html.to_json(orient = 'index'))\n",
    "record"
   ]
  },
  {
   "cell_type": "code",
   "execution_count": null,
   "metadata": {},
   "outputs": [],
   "source": []
  },
  {
   "cell_type": "code",
   "execution_count": 51,
   "metadata": {},
   "outputs": [
    {
     "data": {
      "text/plain": [
       "[{'Rank': 1,\n",
       "  'Company': 'Walmart',\n",
       "  'Country': 'United States',\n",
       "  'Industry': 'Retail',\n",
       "  'Revenue in USD': '$514 billion'},\n",
       " {'Rank': 2,\n",
       "  'Company': 'Sinopec Group',\n",
       "  'Country': 'China',\n",
       "  'Industry': 'Petroleum',\n",
       "  'Revenue in USD': '$415 billion'},\n",
       " {'Rank': 3,\n",
       "  'Company': 'Royal Dutch Shell',\n",
       "  'Country': 'Netherlands United Kingdom',\n",
       "  'Industry': 'Petroleum',\n",
       "  'Revenue in USD': '$397 billion'},\n",
       " {'Rank': 4,\n",
       "  'Company': 'China National Petroleum',\n",
       "  'Country': 'China',\n",
       "  'Industry': 'Petroleum',\n",
       "  'Revenue in USD': '$393 billion'},\n",
       " {'Rank': 5,\n",
       "  'Company': 'State Grid',\n",
       "  'Country': 'China',\n",
       "  'Industry': 'Energy',\n",
       "  'Revenue in USD': '$387 billion'},\n",
       " {'Rank': 6,\n",
       "  'Company': 'Saudi Aramco',\n",
       "  'Country': 'Saudi Arabia',\n",
       "  'Industry': 'Energy',\n",
       "  'Revenue in USD': '$356 billion'},\n",
       " {'Rank': 7,\n",
       "  'Company': 'BP',\n",
       "  'Country': 'United Kingdom',\n",
       "  'Industry': 'Petroleum',\n",
       "  'Revenue in USD': '$304 billion'},\n",
       " {'Rank': 8,\n",
       "  'Company': 'Exxon Mobil',\n",
       "  'Country': 'United States',\n",
       "  'Industry': 'Petroleum',\n",
       "  'Revenue in USD': '$290 billion'},\n",
       " {'Rank': 9,\n",
       "  'Company': 'Volkswagen',\n",
       "  'Country': 'Germany',\n",
       "  'Industry': 'Automobiles',\n",
       "  'Revenue in USD': '$278 billion'},\n",
       " {'Rank': 10,\n",
       "  'Company': 'Toyota Motor',\n",
       "  'Country': 'Japan',\n",
       "  'Industry': 'Automobiles',\n",
       "  'Revenue in USD': '$273 billion'}]"
      ]
     },
     "execution_count": 51,
     "metadata": {},
     "output_type": "execute_result"
    }
   ],
   "source": [
    "fortune_500"
   ]
  },
  {
   "cell_type": "markdown",
   "metadata": {},
   "source": [
    "# Web Scraping"
   ]
  },
  {
   "cell_type": "code",
   "execution_count": 15,
   "metadata": {},
   "outputs": [],
   "source": [
    "import requests\n",
    "from bs4 import BeautifulSoup\n"
   ]
  },
  {
   "cell_type": "code",
   "execution_count": 16,
   "metadata": {},
   "outputs": [],
   "source": [
    "response = requests.get('https://en.wikipedia.org/wiki/Fortune_Global_500')"
   ]
  },
  {
   "cell_type": "code",
   "execution_count": 23,
   "metadata": {},
   "outputs": [
    {
     "data": {
      "text/plain": [
       "'OK'"
      ]
     },
     "execution_count": 23,
     "metadata": {},
     "output_type": "execute_result"
    }
   ],
   "source": [
    "response.reason"
   ]
  },
  {
   "cell_type": "code",
   "execution_count": 26,
   "metadata": {},
   "outputs": [],
   "source": [
    "soup = BeautifulSoup(response.text, \"lxml\")"
   ]
  },
  {
   "cell_type": "code",
   "execution_count": 44,
   "metadata": {},
   "outputs": [
    {
     "data": {
      "text/plain": [
       "<table class=\"wikitable sortable plainrowheaders\">\n",
       "<caption><i>Fortune</i> Global 500 list of 2019\n",
       "</caption>\n",
       "<tbody><tr>\n",
       "<th scope=\"col\">Rank\n",
       "</th>\n",
       "<th scope=\"col\">Company\n",
       "</th>\n",
       "<th scope=\"col\">Country\n",
       "</th>\n",
       "<th scope=\"col\">Industry\n",
       "</th>\n",
       "<th scope=\"col\">Revenue in USD\n",
       "</th></tr>\n",
       "<tr>\n",
       "<th scope=\"row\">1\n",
       "</th>\n",
       "<td><a href=\"/wiki/Walmart\" title=\"Walmart\">Walmart</a>\n",
       "</td>\n",
       "<td><span class=\"flagicon\"><img alt=\"\" class=\"thumbborder\" data-file-height=\"650\" data-file-width=\"1235\" decoding=\"async\" height=\"12\" src=\"//upload.wikimedia.org/wikipedia/en/thumb/a/a4/Flag_of_the_United_States.svg/23px-Flag_of_the_United_States.svg.png\" srcset=\"//upload.wikimedia.org/wikipedia/en/thumb/a/a4/Flag_of_the_United_States.svg/35px-Flag_of_the_United_States.svg.png 1.5x, //upload.wikimedia.org/wikipedia/en/thumb/a/a4/Flag_of_the_United_States.svg/46px-Flag_of_the_United_States.svg.png 2x\" width=\"23\"/> </span><a href=\"/wiki/United_States\" title=\"United States\">United States</a>\n",
       "</td>\n",
       "<td>Retail\n",
       "</td>\n",
       "<td>$514 billion\n",
       "</td></tr>\n",
       "<tr>\n",
       "<th scope=\"row\">2\n",
       "</th>\n",
       "<td><a href=\"/wiki/China_Petrochemical_Corporation\" title=\"China Petrochemical Corporation\">Sinopec Group</a>\n",
       "</td>\n",
       "<td><span class=\"flagicon\"><img alt=\"\" class=\"thumbborder\" data-file-height=\"600\" data-file-width=\"900\" decoding=\"async\" height=\"15\" src=\"//upload.wikimedia.org/wikipedia/commons/thumb/f/fa/Flag_of_the_People%27s_Republic_of_China.svg/23px-Flag_of_the_People%27s_Republic_of_China.svg.png\" srcset=\"//upload.wikimedia.org/wikipedia/commons/thumb/f/fa/Flag_of_the_People%27s_Republic_of_China.svg/35px-Flag_of_the_People%27s_Republic_of_China.svg.png 1.5x, //upload.wikimedia.org/wikipedia/commons/thumb/f/fa/Flag_of_the_People%27s_Republic_of_China.svg/45px-Flag_of_the_People%27s_Republic_of_China.svg.png 2x\" width=\"23\"/> </span><a href=\"/wiki/China\" title=\"China\">China</a>\n",
       "</td>\n",
       "<td>Petroleum\n",
       "</td>\n",
       "<td>$415 billion\n",
       "</td></tr>\n",
       "<tr>\n",
       "<th scope=\"row\">3\n",
       "</th>\n",
       "<td><a href=\"/wiki/Royal_Dutch_Shell\" title=\"Royal Dutch Shell\">Royal Dutch Shell</a>\n",
       "</td>\n",
       "<td><span class=\"flagicon\"><img alt=\"\" class=\"thumbborder\" data-file-height=\"600\" data-file-width=\"900\" decoding=\"async\" height=\"15\" src=\"//upload.wikimedia.org/wikipedia/commons/thumb/2/20/Flag_of_the_Netherlands.svg/23px-Flag_of_the_Netherlands.svg.png\" srcset=\"//upload.wikimedia.org/wikipedia/commons/thumb/2/20/Flag_of_the_Netherlands.svg/35px-Flag_of_the_Netherlands.svg.png 1.5x, //upload.wikimedia.org/wikipedia/commons/thumb/2/20/Flag_of_the_Netherlands.svg/45px-Flag_of_the_Netherlands.svg.png 2x\" width=\"23\"/> </span><a href=\"/wiki/Netherlands\" title=\"Netherlands\">Netherlands</a> <span class=\"flagicon\"><img alt=\"\" class=\"thumbborder\" data-file-height=\"600\" data-file-width=\"1200\" decoding=\"async\" height=\"12\" src=\"//upload.wikimedia.org/wikipedia/en/thumb/a/ae/Flag_of_the_United_Kingdom.svg/23px-Flag_of_the_United_Kingdom.svg.png\" srcset=\"//upload.wikimedia.org/wikipedia/en/thumb/a/ae/Flag_of_the_United_Kingdom.svg/35px-Flag_of_the_United_Kingdom.svg.png 1.5x, //upload.wikimedia.org/wikipedia/en/thumb/a/ae/Flag_of_the_United_Kingdom.svg/46px-Flag_of_the_United_Kingdom.svg.png 2x\" width=\"23\"/> </span><a href=\"/wiki/United_Kingdom\" title=\"United Kingdom\">United Kingdom</a>\n",
       "</td>\n",
       "<td>Petroleum\n",
       "</td>\n",
       "<td>$397 billion\n",
       "</td></tr>\n",
       "<tr>\n",
       "<th scope=\"row\">4\n",
       "</th>\n",
       "<td><a class=\"mw-redirect\" href=\"/wiki/China_National_Petroleum\" title=\"China National Petroleum\">China National Petroleum</a>\n",
       "</td>\n",
       "<td><span class=\"flagicon\"><img alt=\"\" class=\"thumbborder\" data-file-height=\"600\" data-file-width=\"900\" decoding=\"async\" height=\"15\" src=\"//upload.wikimedia.org/wikipedia/commons/thumb/f/fa/Flag_of_the_People%27s_Republic_of_China.svg/23px-Flag_of_the_People%27s_Republic_of_China.svg.png\" srcset=\"//upload.wikimedia.org/wikipedia/commons/thumb/f/fa/Flag_of_the_People%27s_Republic_of_China.svg/35px-Flag_of_the_People%27s_Republic_of_China.svg.png 1.5x, //upload.wikimedia.org/wikipedia/commons/thumb/f/fa/Flag_of_the_People%27s_Republic_of_China.svg/45px-Flag_of_the_People%27s_Republic_of_China.svg.png 2x\" width=\"23\"/> </span><a href=\"/wiki/China\" title=\"China\">China</a>\n",
       "</td>\n",
       "<td>Petroleum\n",
       "</td>\n",
       "<td>$393 billion\n",
       "</td></tr>\n",
       "<tr>\n",
       "<th scope=\"row\">5\n",
       "</th>\n",
       "<td><a href=\"/wiki/State_Grid_Corporation_of_China\" title=\"State Grid Corporation of China\">State Grid</a>\n",
       "</td>\n",
       "<td><span class=\"flagicon\"><img alt=\"\" class=\"thumbborder\" data-file-height=\"600\" data-file-width=\"900\" decoding=\"async\" height=\"15\" src=\"//upload.wikimedia.org/wikipedia/commons/thumb/f/fa/Flag_of_the_People%27s_Republic_of_China.svg/23px-Flag_of_the_People%27s_Republic_of_China.svg.png\" srcset=\"//upload.wikimedia.org/wikipedia/commons/thumb/f/fa/Flag_of_the_People%27s_Republic_of_China.svg/35px-Flag_of_the_People%27s_Republic_of_China.svg.png 1.5x, //upload.wikimedia.org/wikipedia/commons/thumb/f/fa/Flag_of_the_People%27s_Republic_of_China.svg/45px-Flag_of_the_People%27s_Republic_of_China.svg.png 2x\" width=\"23\"/> </span><a href=\"/wiki/China\" title=\"China\">China</a>\n",
       "</td>\n",
       "<td>Energy\n",
       "</td>\n",
       "<td>$387 billion\n",
       "</td></tr>\n",
       "<tr>\n",
       "<th scope=\"row\">6\n",
       "</th>\n",
       "<td><a href=\"/wiki/Saudi_Aramco\" title=\"Saudi Aramco\">Saudi Aramco</a>\n",
       "</td>\n",
       "<td><span class=\"flagicon\"><img alt=\"\" class=\"thumbborder\" data-file-height=\"500\" data-file-width=\"750\" decoding=\"async\" height=\"15\" src=\"//upload.wikimedia.org/wikipedia/commons/thumb/0/0d/Flag_of_Saudi_Arabia.svg/23px-Flag_of_Saudi_Arabia.svg.png\" srcset=\"//upload.wikimedia.org/wikipedia/commons/thumb/0/0d/Flag_of_Saudi_Arabia.svg/35px-Flag_of_Saudi_Arabia.svg.png 1.5x, //upload.wikimedia.org/wikipedia/commons/thumb/0/0d/Flag_of_Saudi_Arabia.svg/45px-Flag_of_Saudi_Arabia.svg.png 2x\" width=\"23\"/> </span><a href=\"/wiki/Saudi_Arabia\" title=\"Saudi Arabia\">Saudi Arabia</a>\n",
       "</td>\n",
       "<td>Energy\n",
       "</td>\n",
       "<td>$356 billion\n",
       "</td></tr>\n",
       "<tr>\n",
       "<th scope=\"row\">7\n",
       "</th>\n",
       "<td><a href=\"/wiki/BP\" title=\"BP\">BP</a>\n",
       "</td>\n",
       "<td><span class=\"flagicon\"><img alt=\"\" class=\"thumbborder\" data-file-height=\"600\" data-file-width=\"1200\" decoding=\"async\" height=\"12\" src=\"//upload.wikimedia.org/wikipedia/en/thumb/a/ae/Flag_of_the_United_Kingdom.svg/23px-Flag_of_the_United_Kingdom.svg.png\" srcset=\"//upload.wikimedia.org/wikipedia/en/thumb/a/ae/Flag_of_the_United_Kingdom.svg/35px-Flag_of_the_United_Kingdom.svg.png 1.5x, //upload.wikimedia.org/wikipedia/en/thumb/a/ae/Flag_of_the_United_Kingdom.svg/46px-Flag_of_the_United_Kingdom.svg.png 2x\" width=\"23\"/> </span><a href=\"/wiki/United_Kingdom\" title=\"United Kingdom\">United Kingdom</a>\n",
       "</td>\n",
       "<td>Petroleum\n",
       "</td>\n",
       "<td>$304 billion\n",
       "</td></tr>\n",
       "<tr>\n",
       "<th scope=\"row\">8\n",
       "</th>\n",
       "<td><a href=\"/wiki/ExxonMobil\" title=\"ExxonMobil\">Exxon Mobil</a>\n",
       "</td>\n",
       "<td><span class=\"flagicon\"><img alt=\"\" class=\"thumbborder\" data-file-height=\"650\" data-file-width=\"1235\" decoding=\"async\" height=\"12\" src=\"//upload.wikimedia.org/wikipedia/en/thumb/a/a4/Flag_of_the_United_States.svg/23px-Flag_of_the_United_States.svg.png\" srcset=\"//upload.wikimedia.org/wikipedia/en/thumb/a/a4/Flag_of_the_United_States.svg/35px-Flag_of_the_United_States.svg.png 1.5x, //upload.wikimedia.org/wikipedia/en/thumb/a/a4/Flag_of_the_United_States.svg/46px-Flag_of_the_United_States.svg.png 2x\" width=\"23\"/> </span><a href=\"/wiki/United_States\" title=\"United States\">United States</a>\n",
       "</td>\n",
       "<td>Petroleum\n",
       "</td>\n",
       "<td>$290 billion\n",
       "</td></tr>\n",
       "<tr>\n",
       "<th scope=\"row\">9\n",
       "</th>\n",
       "<td><a href=\"/wiki/Volkswagen_Group\" title=\"Volkswagen Group\">Volkswagen</a>\n",
       "</td>\n",
       "<td><span class=\"flagicon\"><img alt=\"\" class=\"thumbborder\" data-file-height=\"600\" data-file-width=\"1000\" decoding=\"async\" height=\"14\" src=\"//upload.wikimedia.org/wikipedia/en/thumb/b/ba/Flag_of_Germany.svg/23px-Flag_of_Germany.svg.png\" srcset=\"//upload.wikimedia.org/wikipedia/en/thumb/b/ba/Flag_of_Germany.svg/35px-Flag_of_Germany.svg.png 1.5x, //upload.wikimedia.org/wikipedia/en/thumb/b/ba/Flag_of_Germany.svg/46px-Flag_of_Germany.svg.png 2x\" width=\"23\"/> </span><a href=\"/wiki/Germany\" title=\"Germany\">Germany</a>\n",
       "</td>\n",
       "<td>Automobiles\n",
       "</td>\n",
       "<td>$278 billion\n",
       "</td></tr>\n",
       "<tr>\n",
       "<th scope=\"row\">10\n",
       "</th>\n",
       "<td><a href=\"/wiki/Toyota\" title=\"Toyota\">Toyota Motor</a>\n",
       "</td>\n",
       "<td><span class=\"flagicon\"><img alt=\"\" class=\"thumbborder\" data-file-height=\"600\" data-file-width=\"900\" decoding=\"async\" height=\"15\" src=\"//upload.wikimedia.org/wikipedia/en/thumb/9/9e/Flag_of_Japan.svg/23px-Flag_of_Japan.svg.png\" srcset=\"//upload.wikimedia.org/wikipedia/en/thumb/9/9e/Flag_of_Japan.svg/35px-Flag_of_Japan.svg.png 1.5x, //upload.wikimedia.org/wikipedia/en/thumb/9/9e/Flag_of_Japan.svg/45px-Flag_of_Japan.svg.png 2x\" width=\"23\"/> </span><a href=\"/wiki/Japan\" title=\"Japan\">Japan</a>\n",
       "</td>\n",
       "<td>Automobiles\n",
       "</td>\n",
       "<td>$273 billion\n",
       "</td></tr></tbody></table>"
      ]
     },
     "execution_count": 44,
     "metadata": {},
     "output_type": "execute_result"
    }
   ],
   "source": [
    "soup.find_all('table')[0]"
   ]
  },
  {
   "cell_type": "code",
   "execution_count": 49,
   "metadata": {},
   "outputs": [
    {
     "data": {
      "text/plain": [
       "[<span class=\"mw-headline\" id=\"Methodology\">Methodology</span>,\n",
       " <span class=\"mw-headline\" id=\"Controversy\">Controversy</span>,\n",
       " <span class=\"mw-headline\" id=\"Geographical_distribution\">Geographical distribution</span>,\n",
       " <span class=\"mw-headline\" id=\"Fortune_Global_500_list_of_2019\"><i>Fortune</i> Global 500 list of 2019</span>,\n",
       " <span class=\"mw-headline\" id=\"Breakdown_by_country\">Breakdown by country</span>,\n",
       " <span class=\"mw-headline\" id=\"Breakdown_by_sector\">Breakdown by sector</span>,\n",
       " <span class=\"mw-headline\" id=\"Fortune_Global_500_list_of_2018\"><i>Fortune</i> Global 500 list of 2018</span>,\n",
       " <span class=\"mw-headline\" id=\"Breakdown_by_country_2\">Breakdown by country</span>,\n",
       " <span class=\"mw-headline\" id=\"Breakdown_by_sector_2\">Breakdown by sector</span>,\n",
       " <span class=\"mw-headline\" id=\"Fortune_Global_500_list_of_2017\"><i>Fortune</i> Global 500 list of 2017</span>,\n",
       " <span class=\"mw-headline\" id=\"Breakdown_by_country_3\">Breakdown by country</span>,\n",
       " <span class=\"mw-headline\" id=\"Breakdown_by_sector_3\">Breakdown by sector</span>,\n",
       " <span class=\"mw-headline\" id=\"See_also\">See also</span>,\n",
       " <span class=\"mw-headline\" id=\"References\">References</span>,\n",
       " <span class=\"mw-headline\" id=\"External_links\">External links</span>]"
      ]
     },
     "execution_count": 49,
     "metadata": {},
     "output_type": "execute_result"
    }
   ],
   "source": [
    "soup.select('span.mw-headline')"
   ]
  },
  {
   "cell_type": "code",
   "execution_count": null,
   "metadata": {},
   "outputs": [],
   "source": []
  }
 ],
 "metadata": {
  "kernelspec": {
   "display_name": "Python 3",
   "language": "python",
   "name": "python3"
  },
  "language_info": {
   "codemirror_mode": {
    "name": "ipython",
    "version": 3
   },
   "file_extension": ".py",
   "mimetype": "text/x-python",
   "name": "python",
   "nbconvert_exporter": "python",
   "pygments_lexer": "ipython3",
   "version": "3.7.3"
  }
 },
 "nbformat": 4,
 "nbformat_minor": 2
}
